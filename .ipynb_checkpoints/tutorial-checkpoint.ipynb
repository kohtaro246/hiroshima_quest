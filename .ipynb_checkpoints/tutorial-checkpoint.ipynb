{
 "cells": [
  {
   "cell_type": "code",
   "execution_count": null,
   "metadata": {},
   "outputs": [
    {
     "name": "stdout",
     "output_type": "stream",
     "text": [
      "Collecting matplotlib\n",
      "  Downloading matplotlib-3.6.2-cp38-cp38-manylinux_2_12_x86_64.manylinux2010_x86_64.whl (9.4 MB)\n",
      "\u001b[2K     \u001b[38;2;114;156;31m━━━━━━━━━━━━━━━━━━━━━━━━━━━━━━━━━━━━━━━━\u001b[0m \u001b[32m9.4/9.4 MB\u001b[0m \u001b[31m21.0 MB/s\u001b[0m eta \u001b[36m0:00:00\u001b[0mm eta \u001b[36m0:00:01\u001b[0m0:01\u001b[0m:01\u001b[0m\n",
      "\u001b[?25hRequirement already satisfied: pillow>=6.2.0 in /home/mil/k-tanaka/.pyenv/versions/anaconda3-2020.11/envs/semi/lib/python3.8/site-packages (from matplotlib) (9.2.0)\n",
      "Collecting kiwisolver>=1.0.1\n",
      "  Using cached kiwisolver-1.4.4-cp38-cp38-manylinux_2_5_x86_64.manylinux1_x86_64.whl (1.2 MB)\n",
      "Collecting fonttools>=4.22.0\n",
      "  Using cached fonttools-4.38.0-py3-none-any.whl (965 kB)\n",
      "Collecting cycler>=0.10\n",
      "  Using cached cycler-0.11.0-py3-none-any.whl (6.4 kB)\n",
      "Requirement already satisfied: python-dateutil>=2.7 in /home/mil/k-tanaka/.pyenv/versions/anaconda3-2020.11/envs/semi/lib/python3.8/site-packages (from matplotlib) (2.8.2)\n",
      "Requirement already satisfied: packaging>=20.0 in /home/mil/k-tanaka/.pyenv/versions/anaconda3-2020.11/envs/semi/lib/python3.8/site-packages (from matplotlib) (21.3)\n",
      "Collecting contourpy>=1.0.1\n",
      "  Downloading contourpy-1.0.6-cp38-cp38-manylinux_2_17_x86_64.manylinux2014_x86_64.whl (295 kB)\n",
      "\u001b[2K     \u001b[38;2;114;156;31m━━━━━━━━━━━━━━━━━━━━━━━━━━━━━━━━━━━━━━━\u001b[0m \u001b[32m296.0/296.0 kB\u001b[0m \u001b[31m6.4 MB/s\u001b[0m eta \u001b[36m0:00:00\u001b[0m31m29.0 MB/s\u001b[0m eta \u001b[36m0:00:01\u001b[0m\n",
      "\u001b[?25hRequirement already satisfied: numpy>=1.19 in /home/mil/k-tanaka/.pyenv/versions/anaconda3-2020.11/envs/semi/lib/python3.8/site-packages (from matplotlib) (1.23.4)\n",
      "Requirement already satisfied: pyparsing>=2.2.1 in /home/mil/k-tanaka/.pyenv/versions/anaconda3-2020.11/envs/semi/lib/python3.8/site-packages (from matplotlib) (3.0.9)\n",
      "Requirement already satisfied: six>=1.5 in /home/mil/k-tanaka/.pyenv/versions/anaconda3-2020.11/envs/semi/lib/python3.8/site-packages (from python-dateutil>=2.7->matplotlib) (1.16.0)\n",
      "Installing collected packages: kiwisolver, fonttools, cycler, contourpy, matplotlib\n"
     ]
    }
   ],
   "source": [
    "!pip install matplotlib\n",
    "import warnings\n",
    "warnings.simplefilter('ignore')\n",
    "\n",
    "import pandas as pd\n",
    "import numpy as np\n",
    "import matplotlib.pyplot as plt\n",
    "%matplotlib inline\n",
    "import japanize_matplotlib\n",
    "\n",
    "import folium"
   ]
  },
  {
   "cell_type": "code",
   "execution_count": null,
   "metadata": {},
   "outputs": [],
   "source": [
    "import pandas as pd\n",
    "path = 'run_test/train/'\n",
    "\n",
    "# 雨量のデータの読み込み\n",
    "rain_data = pd.read_csv(path+'rainfall/data.csv')\n",
    "rain_stations = pd.read_csv(path+'rainfall/stations.csv')\n",
    "print('shapeの確認')\n",
    "print('雨量観測データ: ', rain_data.shape)\n",
    "print('雨量観測データ所: ', rain_stations.shape)\n",
    "\n",
    "# 潮位のデータの読み込み\n",
    "tide_data = pd.read_csv(path+'tidelevel/data.csv')\n",
    "tide_stations = pd.read_csv(path+'tidelevel/stations.csv')\n",
    "print('潮位観測データ: ', tide_data.shape)\n",
    "print('潮位観測データ所: ', tide_stations.shape)\n",
    "\n",
    "# 水位のデータの読み込み\n",
    "water_data = pd.read_csv(path+'waterlevel/data.csv')\n",
    "water_stations = pd.read_csv(path+'waterlevel/stations.csv')\n",
    "print('水位観測データ: ', water_data.shape)\n",
    "print('水位観測データ所: ', water_stations.shape)\n",
    "\n",
    "# damデータの読み込み\n",
    "dam = pd.read_csv(path+'dam.csv')\n",
    "print('damデータ: ', dam.shape)"
   ]
  }
 ],
 "metadata": {
  "kernelspec": {
   "display_name": "Python 3 (ipykernel)",
   "language": "python",
   "name": "python3"
  },
  "language_info": {
   "codemirror_mode": {
    "name": "ipython",
    "version": 3
   },
   "file_extension": ".py",
   "mimetype": "text/x-python",
   "name": "python",
   "nbconvert_exporter": "python",
   "pygments_lexer": "ipython3",
   "version": "3.8.0"
  }
 },
 "nbformat": 4,
 "nbformat_minor": 2
}
