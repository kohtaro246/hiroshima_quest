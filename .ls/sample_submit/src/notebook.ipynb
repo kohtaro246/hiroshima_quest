{
 "cells": [
  {
   "cell_type": "code",
   "execution_count": null,
   "metadata": {},
   "outputs": [],
   "source": []
  }
 ],
 "metadata": {
  "kernelspec": {
   "display_name": "Python 3.10.8 64-bit ('torch-ngp': pyenv)",
   "language": "python",
   "name": "python3"
  },
  "language_info": {
   "name": "python",
   "version": "3.10.8"
  },
  "orig_nbformat": 4,
  "vscode": {
   "interpreter": {
    "hash": "3866132b781a9d191fe2b94851cf2dc5b196f46f8375e6f77e32cf83e3ddb939"
   }
  }
 },
 "nbformat": 4,
 "nbformat_minor": 2
}
